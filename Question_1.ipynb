{
  "nbformat": 4,
  "nbformat_minor": 0,
  "metadata": {
    "colab": {
      "provenance": [],
      "authorship_tag": "ABX9TyMQmk4oILdP3EsSyeP9U6tQ",
      "include_colab_link": true
    },
    "kernelspec": {
      "name": "python3",
      "display_name": "Python 3"
    },
    "language_info": {
      "name": "python"
    }
  },
  "cells": [
    {
      "cell_type": "markdown",
      "metadata": {
        "id": "view-in-github",
        "colab_type": "text"
      },
      "source": [
        "<a href=\"https://colab.research.google.com/github/Yusuf-xx/Predict-Wheat-Type/blob/main/Question_1.ipynb\" target=\"_parent\"><img src=\"https://colab.research.google.com/assets/colab-badge.svg\" alt=\"Open In Colab\"/></a>"
      ]
    },
    {
      "cell_type": "code",
      "execution_count": null,
      "metadata": {
        "id": "oY5VQEeMsE7E"
      },
      "outputs": [],
      "source": [
        "import tensorflow as tf\n",
        "import pandas as pd\n",
        "from sklearn.model_selection import train_test_split \n",
        "import matplotlib.pyplot as plt\n",
        "import numpy as np"
      ]
    },
    {
      "cell_type": "code",
      "source": [
        "colnames=['AREA','PERIMETER','COMPACTNESS','LENGTH','WIDTH','ASSYMMETRY_COEFFICIENT','GROOVE_LENGTH','TYPE'] \n",
        "df = pd.read_csv('seeds_dataset.txt',  sep='\\t', names= colnames )"
      ],
      "metadata": {
        "id": "JvnKbfSBsHTK"
      },
      "execution_count": null,
      "outputs": []
    },
    {
      "cell_type": "code",
      "source": [
        "df.head()"
      ],
      "metadata": {
        "colab": {
          "base_uri": "https://localhost:8080/",
          "height": 206
        },
        "id": "mJ7ysY3BsI3Z",
        "outputId": "b324e6ee-b430-4230-9130-20556c532196"
      },
      "execution_count": null,
      "outputs": [
        {
          "output_type": "execute_result",
          "data": {
            "text/plain": [
              "    AREA  PERIMETER  COMPACTNESS  LENGTH  WIDTH  ASSYMMETRY_COEFFICIENT  \\\n",
              "0  15.26      14.84       0.8710   5.763  3.312                   2.221   \n",
              "1  14.88      14.57       0.8811   5.554  3.333                   1.018   \n",
              "2  14.29      14.09       0.9050   5.291  3.337                   2.699   \n",
              "3  13.84      13.94       0.8955   5.324  3.379                   2.259   \n",
              "4  16.14      14.99       0.9034   5.658  3.562                   1.355   \n",
              "\n",
              "   GROOVE_LENGTH  TYPE  \n",
              "0          5.220   1.0  \n",
              "1          4.956   1.0  \n",
              "2          4.825   1.0  \n",
              "3          4.805   1.0  \n",
              "4          5.175   1.0  "
            ],
            "text/html": [
              "\n",
              "  <div id=\"df-71c31f9f-eba0-48fc-8f46-677351bfefe1\">\n",
              "    <div class=\"colab-df-container\">\n",
              "      <div>\n",
              "<style scoped>\n",
              "    .dataframe tbody tr th:only-of-type {\n",
              "        vertical-align: middle;\n",
              "    }\n",
              "\n",
              "    .dataframe tbody tr th {\n",
              "        vertical-align: top;\n",
              "    }\n",
              "\n",
              "    .dataframe thead th {\n",
              "        text-align: right;\n",
              "    }\n",
              "</style>\n",
              "<table border=\"1\" class=\"dataframe\">\n",
              "  <thead>\n",
              "    <tr style=\"text-align: right;\">\n",
              "      <th></th>\n",
              "      <th>AREA</th>\n",
              "      <th>PERIMETER</th>\n",
              "      <th>COMPACTNESS</th>\n",
              "      <th>LENGTH</th>\n",
              "      <th>WIDTH</th>\n",
              "      <th>ASSYMMETRY_COEFFICIENT</th>\n",
              "      <th>GROOVE_LENGTH</th>\n",
              "      <th>TYPE</th>\n",
              "    </tr>\n",
              "  </thead>\n",
              "  <tbody>\n",
              "    <tr>\n",
              "      <th>0</th>\n",
              "      <td>15.26</td>\n",
              "      <td>14.84</td>\n",
              "      <td>0.8710</td>\n",
              "      <td>5.763</td>\n",
              "      <td>3.312</td>\n",
              "      <td>2.221</td>\n",
              "      <td>5.220</td>\n",
              "      <td>1.0</td>\n",
              "    </tr>\n",
              "    <tr>\n",
              "      <th>1</th>\n",
              "      <td>14.88</td>\n",
              "      <td>14.57</td>\n",
              "      <td>0.8811</td>\n",
              "      <td>5.554</td>\n",
              "      <td>3.333</td>\n",
              "      <td>1.018</td>\n",
              "      <td>4.956</td>\n",
              "      <td>1.0</td>\n",
              "    </tr>\n",
              "    <tr>\n",
              "      <th>2</th>\n",
              "      <td>14.29</td>\n",
              "      <td>14.09</td>\n",
              "      <td>0.9050</td>\n",
              "      <td>5.291</td>\n",
              "      <td>3.337</td>\n",
              "      <td>2.699</td>\n",
              "      <td>4.825</td>\n",
              "      <td>1.0</td>\n",
              "    </tr>\n",
              "    <tr>\n",
              "      <th>3</th>\n",
              "      <td>13.84</td>\n",
              "      <td>13.94</td>\n",
              "      <td>0.8955</td>\n",
              "      <td>5.324</td>\n",
              "      <td>3.379</td>\n",
              "      <td>2.259</td>\n",
              "      <td>4.805</td>\n",
              "      <td>1.0</td>\n",
              "    </tr>\n",
              "    <tr>\n",
              "      <th>4</th>\n",
              "      <td>16.14</td>\n",
              "      <td>14.99</td>\n",
              "      <td>0.9034</td>\n",
              "      <td>5.658</td>\n",
              "      <td>3.562</td>\n",
              "      <td>1.355</td>\n",
              "      <td>5.175</td>\n",
              "      <td>1.0</td>\n",
              "    </tr>\n",
              "  </tbody>\n",
              "</table>\n",
              "</div>\n",
              "      <button class=\"colab-df-convert\" onclick=\"convertToInteractive('df-71c31f9f-eba0-48fc-8f46-677351bfefe1')\"\n",
              "              title=\"Convert this dataframe to an interactive table.\"\n",
              "              style=\"display:none;\">\n",
              "        \n",
              "  <svg xmlns=\"http://www.w3.org/2000/svg\" height=\"24px\"viewBox=\"0 0 24 24\"\n",
              "       width=\"24px\">\n",
              "    <path d=\"M0 0h24v24H0V0z\" fill=\"none\"/>\n",
              "    <path d=\"M18.56 5.44l.94 2.06.94-2.06 2.06-.94-2.06-.94-.94-2.06-.94 2.06-2.06.94zm-11 1L8.5 8.5l.94-2.06 2.06-.94-2.06-.94L8.5 2.5l-.94 2.06-2.06.94zm10 10l.94 2.06.94-2.06 2.06-.94-2.06-.94-.94-2.06-.94 2.06-2.06.94z\"/><path d=\"M17.41 7.96l-1.37-1.37c-.4-.4-.92-.59-1.43-.59-.52 0-1.04.2-1.43.59L10.3 9.45l-7.72 7.72c-.78.78-.78 2.05 0 2.83L4 21.41c.39.39.9.59 1.41.59.51 0 1.02-.2 1.41-.59l7.78-7.78 2.81-2.81c.8-.78.8-2.07 0-2.86zM5.41 20L4 18.59l7.72-7.72 1.47 1.35L5.41 20z\"/>\n",
              "  </svg>\n",
              "      </button>\n",
              "      \n",
              "  <style>\n",
              "    .colab-df-container {\n",
              "      display:flex;\n",
              "      flex-wrap:wrap;\n",
              "      gap: 12px;\n",
              "    }\n",
              "\n",
              "    .colab-df-convert {\n",
              "      background-color: #E8F0FE;\n",
              "      border: none;\n",
              "      border-radius: 50%;\n",
              "      cursor: pointer;\n",
              "      display: none;\n",
              "      fill: #1967D2;\n",
              "      height: 32px;\n",
              "      padding: 0 0 0 0;\n",
              "      width: 32px;\n",
              "    }\n",
              "\n",
              "    .colab-df-convert:hover {\n",
              "      background-color: #E2EBFA;\n",
              "      box-shadow: 0px 1px 2px rgba(60, 64, 67, 0.3), 0px 1px 3px 1px rgba(60, 64, 67, 0.15);\n",
              "      fill: #174EA6;\n",
              "    }\n",
              "\n",
              "    [theme=dark] .colab-df-convert {\n",
              "      background-color: #3B4455;\n",
              "      fill: #D2E3FC;\n",
              "    }\n",
              "\n",
              "    [theme=dark] .colab-df-convert:hover {\n",
              "      background-color: #434B5C;\n",
              "      box-shadow: 0px 1px 3px 1px rgba(0, 0, 0, 0.15);\n",
              "      filter: drop-shadow(0px 1px 2px rgba(0, 0, 0, 0.3));\n",
              "      fill: #FFFFFF;\n",
              "    }\n",
              "  </style>\n",
              "\n",
              "      <script>\n",
              "        const buttonEl =\n",
              "          document.querySelector('#df-71c31f9f-eba0-48fc-8f46-677351bfefe1 button.colab-df-convert');\n",
              "        buttonEl.style.display =\n",
              "          google.colab.kernel.accessAllowed ? 'block' : 'none';\n",
              "\n",
              "        async function convertToInteractive(key) {\n",
              "          const element = document.querySelector('#df-71c31f9f-eba0-48fc-8f46-677351bfefe1');\n",
              "          const dataTable =\n",
              "            await google.colab.kernel.invokeFunction('convertToInteractive',\n",
              "                                                     [key], {});\n",
              "          if (!dataTable) return;\n",
              "\n",
              "          const docLinkHtml = 'Like what you see? Visit the ' +\n",
              "            '<a target=\"_blank\" href=https://colab.research.google.com/notebooks/data_table.ipynb>data table notebook</a>'\n",
              "            + ' to learn more about interactive tables.';\n",
              "          element.innerHTML = '';\n",
              "          dataTable['output_type'] = 'display_data';\n",
              "          await google.colab.output.renderOutput(dataTable, element);\n",
              "          const docLink = document.createElement('div');\n",
              "          docLink.innerHTML = docLinkHtml;\n",
              "          element.appendChild(docLink);\n",
              "        }\n",
              "      </script>\n",
              "    </div>\n",
              "  </div>\n",
              "  "
            ]
          },
          "metadata": {},
          "execution_count": 48
        }
      ]
    },
    {
      "cell_type": "code",
      "source": [
        "df = df.dropna()"
      ],
      "metadata": {
        "id": "w4e46Al4sKQf"
      },
      "execution_count": null,
      "outputs": []
    },
    {
      "cell_type": "code",
      "source": [
        "train_set = df.iloc[:,:7]\n",
        "test_set = df.iloc[:,7:]\n",
        "test_set.head()"
      ],
      "metadata": {
        "colab": {
          "base_uri": "https://localhost:8080/",
          "height": 206
        },
        "id": "PrQoxT6NsMbM",
        "outputId": "26f4a807-8020-4245-a59e-23b982729d74"
      },
      "execution_count": null,
      "outputs": [
        {
          "output_type": "execute_result",
          "data": {
            "text/plain": [
              "   TYPE\n",
              "0   1.0\n",
              "1   1.0\n",
              "2   1.0\n",
              "3   1.0\n",
              "4   1.0"
            ],
            "text/html": [
              "\n",
              "  <div id=\"df-9876c891-7ae7-47f6-b090-330ab16d08e1\">\n",
              "    <div class=\"colab-df-container\">\n",
              "      <div>\n",
              "<style scoped>\n",
              "    .dataframe tbody tr th:only-of-type {\n",
              "        vertical-align: middle;\n",
              "    }\n",
              "\n",
              "    .dataframe tbody tr th {\n",
              "        vertical-align: top;\n",
              "    }\n",
              "\n",
              "    .dataframe thead th {\n",
              "        text-align: right;\n",
              "    }\n",
              "</style>\n",
              "<table border=\"1\" class=\"dataframe\">\n",
              "  <thead>\n",
              "    <tr style=\"text-align: right;\">\n",
              "      <th></th>\n",
              "      <th>TYPE</th>\n",
              "    </tr>\n",
              "  </thead>\n",
              "  <tbody>\n",
              "    <tr>\n",
              "      <th>0</th>\n",
              "      <td>1.0</td>\n",
              "    </tr>\n",
              "    <tr>\n",
              "      <th>1</th>\n",
              "      <td>1.0</td>\n",
              "    </tr>\n",
              "    <tr>\n",
              "      <th>2</th>\n",
              "      <td>1.0</td>\n",
              "    </tr>\n",
              "    <tr>\n",
              "      <th>3</th>\n",
              "      <td>1.0</td>\n",
              "    </tr>\n",
              "    <tr>\n",
              "      <th>4</th>\n",
              "      <td>1.0</td>\n",
              "    </tr>\n",
              "  </tbody>\n",
              "</table>\n",
              "</div>\n",
              "      <button class=\"colab-df-convert\" onclick=\"convertToInteractive('df-9876c891-7ae7-47f6-b090-330ab16d08e1')\"\n",
              "              title=\"Convert this dataframe to an interactive table.\"\n",
              "              style=\"display:none;\">\n",
              "        \n",
              "  <svg xmlns=\"http://www.w3.org/2000/svg\" height=\"24px\"viewBox=\"0 0 24 24\"\n",
              "       width=\"24px\">\n",
              "    <path d=\"M0 0h24v24H0V0z\" fill=\"none\"/>\n",
              "    <path d=\"M18.56 5.44l.94 2.06.94-2.06 2.06-.94-2.06-.94-.94-2.06-.94 2.06-2.06.94zm-11 1L8.5 8.5l.94-2.06 2.06-.94-2.06-.94L8.5 2.5l-.94 2.06-2.06.94zm10 10l.94 2.06.94-2.06 2.06-.94-2.06-.94-.94-2.06-.94 2.06-2.06.94z\"/><path d=\"M17.41 7.96l-1.37-1.37c-.4-.4-.92-.59-1.43-.59-.52 0-1.04.2-1.43.59L10.3 9.45l-7.72 7.72c-.78.78-.78 2.05 0 2.83L4 21.41c.39.39.9.59 1.41.59.51 0 1.02-.2 1.41-.59l7.78-7.78 2.81-2.81c.8-.78.8-2.07 0-2.86zM5.41 20L4 18.59l7.72-7.72 1.47 1.35L5.41 20z\"/>\n",
              "  </svg>\n",
              "      </button>\n",
              "      \n",
              "  <style>\n",
              "    .colab-df-container {\n",
              "      display:flex;\n",
              "      flex-wrap:wrap;\n",
              "      gap: 12px;\n",
              "    }\n",
              "\n",
              "    .colab-df-convert {\n",
              "      background-color: #E8F0FE;\n",
              "      border: none;\n",
              "      border-radius: 50%;\n",
              "      cursor: pointer;\n",
              "      display: none;\n",
              "      fill: #1967D2;\n",
              "      height: 32px;\n",
              "      padding: 0 0 0 0;\n",
              "      width: 32px;\n",
              "    }\n",
              "\n",
              "    .colab-df-convert:hover {\n",
              "      background-color: #E2EBFA;\n",
              "      box-shadow: 0px 1px 2px rgba(60, 64, 67, 0.3), 0px 1px 3px 1px rgba(60, 64, 67, 0.15);\n",
              "      fill: #174EA6;\n",
              "    }\n",
              "\n",
              "    [theme=dark] .colab-df-convert {\n",
              "      background-color: #3B4455;\n",
              "      fill: #D2E3FC;\n",
              "    }\n",
              "\n",
              "    [theme=dark] .colab-df-convert:hover {\n",
              "      background-color: #434B5C;\n",
              "      box-shadow: 0px 1px 3px 1px rgba(0, 0, 0, 0.15);\n",
              "      filter: drop-shadow(0px 1px 2px rgba(0, 0, 0, 0.3));\n",
              "      fill: #FFFFFF;\n",
              "    }\n",
              "  </style>\n",
              "\n",
              "      <script>\n",
              "        const buttonEl =\n",
              "          document.querySelector('#df-9876c891-7ae7-47f6-b090-330ab16d08e1 button.colab-df-convert');\n",
              "        buttonEl.style.display =\n",
              "          google.colab.kernel.accessAllowed ? 'block' : 'none';\n",
              "\n",
              "        async function convertToInteractive(key) {\n",
              "          const element = document.querySelector('#df-9876c891-7ae7-47f6-b090-330ab16d08e1');\n",
              "          const dataTable =\n",
              "            await google.colab.kernel.invokeFunction('convertToInteractive',\n",
              "                                                     [key], {});\n",
              "          if (!dataTable) return;\n",
              "\n",
              "          const docLinkHtml = 'Like what you see? Visit the ' +\n",
              "            '<a target=\"_blank\" href=https://colab.research.google.com/notebooks/data_table.ipynb>data table notebook</a>'\n",
              "            + ' to learn more about interactive tables.';\n",
              "          element.innerHTML = '';\n",
              "          dataTable['output_type'] = 'display_data';\n",
              "          await google.colab.output.renderOutput(dataTable, element);\n",
              "          const docLink = document.createElement('div');\n",
              "          docLink.innerHTML = docLinkHtml;\n",
              "          element.appendChild(docLink);\n",
              "        }\n",
              "      </script>\n",
              "    </div>\n",
              "  </div>\n",
              "  "
            ]
          },
          "metadata": {},
          "execution_count": 50
        }
      ]
    },
    {
      "cell_type": "code",
      "source": [
        "test_set = pd.get_dummies(test_set.TYPE)"
      ],
      "metadata": {
        "id": "SkG94P3XsOLS"
      },
      "execution_count": null,
      "outputs": []
    },
    {
      "cell_type": "code",
      "source": [
        "X_train, X_test, y_train, y_test = train_test_split(train_set, test_set,train_size=0.80, test_size=0.20)"
      ],
      "metadata": {
        "id": "_B0iF4BysQyB"
      },
      "execution_count": null,
      "outputs": []
    },
    {
      "cell_type": "code",
      "source": [
        "y_train.head()"
      ],
      "metadata": {
        "colab": {
          "base_uri": "https://localhost:8080/",
          "height": 206
        },
        "id": "6mcAbarosSwu",
        "outputId": "243b5d42-03ce-49fb-db83-a08ba0a51368"
      },
      "execution_count": null,
      "outputs": [
        {
          "output_type": "execute_result",
          "data": {
            "text/plain": [
              "     1.0  2.0  3.0\n",
              "88     0    1    0\n",
              "195    0    0    1\n",
              "2      1    0    0\n",
              "41     1    0    0\n",
              "46     1    0    0"
            ],
            "text/html": [
              "\n",
              "  <div id=\"df-77cd0a71-ff90-4e6c-93f5-c3c4009bfa79\">\n",
              "    <div class=\"colab-df-container\">\n",
              "      <div>\n",
              "<style scoped>\n",
              "    .dataframe tbody tr th:only-of-type {\n",
              "        vertical-align: middle;\n",
              "    }\n",
              "\n",
              "    .dataframe tbody tr th {\n",
              "        vertical-align: top;\n",
              "    }\n",
              "\n",
              "    .dataframe thead th {\n",
              "        text-align: right;\n",
              "    }\n",
              "</style>\n",
              "<table border=\"1\" class=\"dataframe\">\n",
              "  <thead>\n",
              "    <tr style=\"text-align: right;\">\n",
              "      <th></th>\n",
              "      <th>1.0</th>\n",
              "      <th>2.0</th>\n",
              "      <th>3.0</th>\n",
              "    </tr>\n",
              "  </thead>\n",
              "  <tbody>\n",
              "    <tr>\n",
              "      <th>88</th>\n",
              "      <td>0</td>\n",
              "      <td>1</td>\n",
              "      <td>0</td>\n",
              "    </tr>\n",
              "    <tr>\n",
              "      <th>195</th>\n",
              "      <td>0</td>\n",
              "      <td>0</td>\n",
              "      <td>1</td>\n",
              "    </tr>\n",
              "    <tr>\n",
              "      <th>2</th>\n",
              "      <td>1</td>\n",
              "      <td>0</td>\n",
              "      <td>0</td>\n",
              "    </tr>\n",
              "    <tr>\n",
              "      <th>41</th>\n",
              "      <td>1</td>\n",
              "      <td>0</td>\n",
              "      <td>0</td>\n",
              "    </tr>\n",
              "    <tr>\n",
              "      <th>46</th>\n",
              "      <td>1</td>\n",
              "      <td>0</td>\n",
              "      <td>0</td>\n",
              "    </tr>\n",
              "  </tbody>\n",
              "</table>\n",
              "</div>\n",
              "      <button class=\"colab-df-convert\" onclick=\"convertToInteractive('df-77cd0a71-ff90-4e6c-93f5-c3c4009bfa79')\"\n",
              "              title=\"Convert this dataframe to an interactive table.\"\n",
              "              style=\"display:none;\">\n",
              "        \n",
              "  <svg xmlns=\"http://www.w3.org/2000/svg\" height=\"24px\"viewBox=\"0 0 24 24\"\n",
              "       width=\"24px\">\n",
              "    <path d=\"M0 0h24v24H0V0z\" fill=\"none\"/>\n",
              "    <path d=\"M18.56 5.44l.94 2.06.94-2.06 2.06-.94-2.06-.94-.94-2.06-.94 2.06-2.06.94zm-11 1L8.5 8.5l.94-2.06 2.06-.94-2.06-.94L8.5 2.5l-.94 2.06-2.06.94zm10 10l.94 2.06.94-2.06 2.06-.94-2.06-.94-.94-2.06-.94 2.06-2.06.94z\"/><path d=\"M17.41 7.96l-1.37-1.37c-.4-.4-.92-.59-1.43-.59-.52 0-1.04.2-1.43.59L10.3 9.45l-7.72 7.72c-.78.78-.78 2.05 0 2.83L4 21.41c.39.39.9.59 1.41.59.51 0 1.02-.2 1.41-.59l7.78-7.78 2.81-2.81c.8-.78.8-2.07 0-2.86zM5.41 20L4 18.59l7.72-7.72 1.47 1.35L5.41 20z\"/>\n",
              "  </svg>\n",
              "      </button>\n",
              "      \n",
              "  <style>\n",
              "    .colab-df-container {\n",
              "      display:flex;\n",
              "      flex-wrap:wrap;\n",
              "      gap: 12px;\n",
              "    }\n",
              "\n",
              "    .colab-df-convert {\n",
              "      background-color: #E8F0FE;\n",
              "      border: none;\n",
              "      border-radius: 50%;\n",
              "      cursor: pointer;\n",
              "      display: none;\n",
              "      fill: #1967D2;\n",
              "      height: 32px;\n",
              "      padding: 0 0 0 0;\n",
              "      width: 32px;\n",
              "    }\n",
              "\n",
              "    .colab-df-convert:hover {\n",
              "      background-color: #E2EBFA;\n",
              "      box-shadow: 0px 1px 2px rgba(60, 64, 67, 0.3), 0px 1px 3px 1px rgba(60, 64, 67, 0.15);\n",
              "      fill: #174EA6;\n",
              "    }\n",
              "\n",
              "    [theme=dark] .colab-df-convert {\n",
              "      background-color: #3B4455;\n",
              "      fill: #D2E3FC;\n",
              "    }\n",
              "\n",
              "    [theme=dark] .colab-df-convert:hover {\n",
              "      background-color: #434B5C;\n",
              "      box-shadow: 0px 1px 3px 1px rgba(0, 0, 0, 0.15);\n",
              "      filter: drop-shadow(0px 1px 2px rgba(0, 0, 0, 0.3));\n",
              "      fill: #FFFFFF;\n",
              "    }\n",
              "  </style>\n",
              "\n",
              "      <script>\n",
              "        const buttonEl =\n",
              "          document.querySelector('#df-77cd0a71-ff90-4e6c-93f5-c3c4009bfa79 button.colab-df-convert');\n",
              "        buttonEl.style.display =\n",
              "          google.colab.kernel.accessAllowed ? 'block' : 'none';\n",
              "\n",
              "        async function convertToInteractive(key) {\n",
              "          const element = document.querySelector('#df-77cd0a71-ff90-4e6c-93f5-c3c4009bfa79');\n",
              "          const dataTable =\n",
              "            await google.colab.kernel.invokeFunction('convertToInteractive',\n",
              "                                                     [key], {});\n",
              "          if (!dataTable) return;\n",
              "\n",
              "          const docLinkHtml = 'Like what you see? Visit the ' +\n",
              "            '<a target=\"_blank\" href=https://colab.research.google.com/notebooks/data_table.ipynb>data table notebook</a>'\n",
              "            + ' to learn more about interactive tables.';\n",
              "          element.innerHTML = '';\n",
              "          dataTable['output_type'] = 'display_data';\n",
              "          await google.colab.output.renderOutput(dataTable, element);\n",
              "          const docLink = document.createElement('div');\n",
              "          docLink.innerHTML = docLinkHtml;\n",
              "          element.appendChild(docLink);\n",
              "        }\n",
              "      </script>\n",
              "    </div>\n",
              "  </div>\n",
              "  "
            ]
          },
          "metadata": {},
          "execution_count": 53
        }
      ]
    },
    {
      "cell_type": "code",
      "source": [
        "tf.random.set_seed = 30\n",
        "\n",
        "model_1 = tf.keras.Sequential([\n",
        "              tf.keras.layers.Dense(7, activation='relu'),\n",
        "              tf.keras.layers.Dense(7, activation='relu'),\n",
        "              tf.keras.layers.Dense(7, activation='relu'),\n",
        "              tf.keras.layers.Dense(3,activation='softmax')\n",
        "\n",
        "])"
      ],
      "metadata": {
        "id": "LhijvWsFsThf"
      },
      "execution_count": null,
      "outputs": []
    },
    {
      "cell_type": "code",
      "source": [
        "model_1.compile(loss= tf.keras.losses.CategoricalCrossentropy(),\n",
        "                optimizer = tf.keras.optimizers.RMSprop(learning_rate= 0.001),\n",
        "                metrics = ['accuracy'])"
      ],
      "metadata": {
        "id": "szs5AAXesXlL"
      },
      "execution_count": null,
      "outputs": []
    },
    {
      "cell_type": "code",
      "source": [
        "history_1 = model_1.fit(X_train,y_train, epochs=49)"
      ],
      "metadata": {
        "colab": {
          "base_uri": "https://localhost:8080/"
        },
        "id": "Fn6M4cy-sZUv",
        "outputId": "843cefcb-bb75-4cd9-9390-c625d5df9ec8"
      },
      "execution_count": null,
      "outputs": [
        {
          "output_type": "stream",
          "name": "stdout",
          "text": [
            "Epoch 1/49\n",
            "5/5 [==============================] - 1s 3ms/step - loss: 1.1071 - accuracy: 0.1321\n",
            "Epoch 2/49\n",
            "5/5 [==============================] - 0s 3ms/step - loss: 1.0617 - accuracy: 0.1698\n",
            "Epoch 3/49\n",
            "5/5 [==============================] - 0s 3ms/step - loss: 1.0365 - accuracy: 0.3082\n",
            "Epoch 4/49\n",
            "5/5 [==============================] - 0s 4ms/step - loss: 1.0152 - accuracy: 0.3585\n",
            "Epoch 5/49\n",
            "5/5 [==============================] - 0s 4ms/step - loss: 0.9943 - accuracy: 0.4151\n",
            "Epoch 6/49\n",
            "5/5 [==============================] - 0s 4ms/step - loss: 0.9732 - accuracy: 0.4528\n",
            "Epoch 7/49\n",
            "5/5 [==============================] - 0s 3ms/step - loss: 0.9572 - accuracy: 0.4780\n",
            "Epoch 8/49\n",
            "5/5 [==============================] - 0s 3ms/step - loss: 0.9432 - accuracy: 0.4717\n",
            "Epoch 9/49\n",
            "5/5 [==============================] - 0s 4ms/step - loss: 0.9327 - accuracy: 0.4528\n",
            "Epoch 10/49\n",
            "5/5 [==============================] - 0s 3ms/step - loss: 0.9210 - accuracy: 0.4528\n",
            "Epoch 11/49\n",
            "5/5 [==============================] - 0s 3ms/step - loss: 0.9089 - accuracy: 0.4277\n",
            "Epoch 12/49\n",
            "5/5 [==============================] - 0s 4ms/step - loss: 0.8989 - accuracy: 0.4403\n",
            "Epoch 13/49\n",
            "5/5 [==============================] - 0s 3ms/step - loss: 0.8871 - accuracy: 0.4340\n",
            "Epoch 14/49\n",
            "5/5 [==============================] - 0s 3ms/step - loss: 0.8763 - accuracy: 0.4277\n",
            "Epoch 15/49\n",
            "5/5 [==============================] - 0s 3ms/step - loss: 0.8651 - accuracy: 0.4340\n",
            "Epoch 16/49\n",
            "5/5 [==============================] - 0s 4ms/step - loss: 0.8549 - accuracy: 0.4528\n",
            "Epoch 17/49\n",
            "5/5 [==============================] - 0s 4ms/step - loss: 0.8450 - accuracy: 0.4969\n",
            "Epoch 18/49\n",
            "5/5 [==============================] - 0s 4ms/step - loss: 0.8352 - accuracy: 0.5346\n",
            "Epoch 19/49\n",
            "5/5 [==============================] - 0s 4ms/step - loss: 0.8253 - accuracy: 0.5723\n",
            "Epoch 20/49\n",
            "5/5 [==============================] - 0s 3ms/step - loss: 0.8157 - accuracy: 0.6038\n",
            "Epoch 21/49\n",
            "5/5 [==============================] - 0s 4ms/step - loss: 0.8077 - accuracy: 0.6289\n",
            "Epoch 22/49\n",
            "5/5 [==============================] - 0s 4ms/step - loss: 0.7987 - accuracy: 0.6352\n",
            "Epoch 23/49\n",
            "5/5 [==============================] - 0s 3ms/step - loss: 0.7919 - accuracy: 0.6604\n",
            "Epoch 24/49\n",
            "5/5 [==============================] - 0s 4ms/step - loss: 0.7816 - accuracy: 0.6604\n",
            "Epoch 25/49\n",
            "5/5 [==============================] - 0s 4ms/step - loss: 0.7712 - accuracy: 0.7044\n",
            "Epoch 26/49\n",
            "5/5 [==============================] - 0s 3ms/step - loss: 0.7627 - accuracy: 0.7107\n",
            "Epoch 27/49\n",
            "5/5 [==============================] - 0s 4ms/step - loss: 0.7566 - accuracy: 0.7107\n",
            "Epoch 28/49\n",
            "5/5 [==============================] - 0s 4ms/step - loss: 0.7456 - accuracy: 0.7107\n",
            "Epoch 29/49\n",
            "5/5 [==============================] - 0s 3ms/step - loss: 0.7349 - accuracy: 0.7107\n",
            "Epoch 30/49\n",
            "5/5 [==============================] - 0s 3ms/step - loss: 0.7269 - accuracy: 0.7358\n",
            "Epoch 31/49\n",
            "5/5 [==============================] - 0s 4ms/step - loss: 0.7182 - accuracy: 0.7736\n",
            "Epoch 32/49\n",
            "5/5 [==============================] - 0s 4ms/step - loss: 0.7102 - accuracy: 0.7610\n",
            "Epoch 33/49\n",
            "5/5 [==============================] - 0s 3ms/step - loss: 0.6998 - accuracy: 0.7547\n",
            "Epoch 34/49\n",
            "5/5 [==============================] - 0s 3ms/step - loss: 0.6925 - accuracy: 0.7736\n",
            "Epoch 35/49\n",
            "5/5 [==============================] - 0s 3ms/step - loss: 0.6813 - accuracy: 0.7862\n",
            "Epoch 36/49\n",
            "5/5 [==============================] - 0s 4ms/step - loss: 0.6738 - accuracy: 0.8113\n",
            "Epoch 37/49\n",
            "5/5 [==============================] - 0s 3ms/step - loss: 0.6643 - accuracy: 0.7799\n",
            "Epoch 38/49\n",
            "5/5 [==============================] - 0s 3ms/step - loss: 0.6567 - accuracy: 0.8176\n",
            "Epoch 39/49\n",
            "5/5 [==============================] - 0s 3ms/step - loss: 0.6474 - accuracy: 0.7862\n",
            "Epoch 40/49\n",
            "5/5 [==============================] - 0s 3ms/step - loss: 0.6392 - accuracy: 0.8239\n",
            "Epoch 41/49\n",
            "5/5 [==============================] - 0s 3ms/step - loss: 0.6335 - accuracy: 0.7987\n",
            "Epoch 42/49\n",
            "5/5 [==============================] - 0s 3ms/step - loss: 0.6232 - accuracy: 0.8176\n",
            "Epoch 43/49\n",
            "5/5 [==============================] - 0s 3ms/step - loss: 0.6174 - accuracy: 0.8050\n",
            "Epoch 44/49\n",
            "5/5 [==============================] - 0s 3ms/step - loss: 0.6078 - accuracy: 0.8239\n",
            "Epoch 45/49\n",
            "5/5 [==============================] - 0s 4ms/step - loss: 0.6005 - accuracy: 0.8239\n",
            "Epoch 46/49\n",
            "5/5 [==============================] - 0s 3ms/step - loss: 0.5918 - accuracy: 0.8302\n",
            "Epoch 47/49\n",
            "5/5 [==============================] - 0s 3ms/step - loss: 0.5882 - accuracy: 0.8113\n",
            "Epoch 48/49\n",
            "5/5 [==============================] - 0s 4ms/step - loss: 0.5784 - accuracy: 0.8365\n",
            "Epoch 49/49\n",
            "5/5 [==============================] - 0s 3ms/step - loss: 0.5692 - accuracy: 0.8113\n"
          ]
        }
      ]
    },
    {
      "cell_type": "code",
      "source": [
        "model_1.evaluate(X_test, y_test)"
      ],
      "metadata": {
        "colab": {
          "base_uri": "https://localhost:8080/"
        },
        "id": "vJtPcuLJsamN",
        "outputId": "313ab180-d853-4f72-f509-47fd23e25b4e"
      },
      "execution_count": null,
      "outputs": [
        {
          "output_type": "stream",
          "name": "stdout",
          "text": [
            "2/2 [==============================] - 0s 5ms/step - loss: 0.5971 - accuracy: 0.9000\n"
          ]
        },
        {
          "output_type": "execute_result",
          "data": {
            "text/plain": [
              "[0.5971323847770691, 0.8999999761581421]"
            ]
          },
          "metadata": {},
          "execution_count": 68
        }
      ]
    },
    {
      "cell_type": "code",
      "source": [
        "pd.DataFrame(history_1.history).plot(figsize=(10,7))"
      ],
      "metadata": {
        "colab": {
          "base_uri": "https://localhost:8080/",
          "height": 446
        },
        "id": "wLktOtTrscA5",
        "outputId": "fea726dc-5a9e-4f2a-be01-76ddd6508d19"
      },
      "execution_count": null,
      "outputs": [
        {
          "output_type": "execute_result",
          "data": {
            "text/plain": [
              "<matplotlib.axes._subplots.AxesSubplot at 0x7f837b0fcf90>"
            ]
          },
          "metadata": {},
          "execution_count": 67
        },
        {
          "output_type": "display_data",
          "data": {
            "text/plain": [
              "<Figure size 720x504 with 1 Axes>"
            ],
            "image/png": "[encoded data removed]"
          },
          "metadata": {
            "needs_background": "light"
          }
        }
      ]
    },
    {
      "cell_type": "code",
      "source": [
        "y_probs = model_1.predict(X_test)\n",
        "y_preds = y_probs.argmax(axis=1) \n",
        "y_preds"
      ],
      "metadata": {
        "colab": {
          "base_uri": "https://localhost:8080/"
        },
        "id": "zvhLnsudsdeX",
        "outputId": "4859574b-19e1-4459-d431-e6c93d906057"
      },
      "execution_count": null,
      "outputs": [
        {
          "output_type": "execute_result",
          "data": {
            "text/plain": [
              "array([1, 1, 2, 0, 0, 0, 2, 2, 2, 0, 0, 2, 0, 0, 1, 0, 2, 2, 2, 2, 0, 2,\n",
              "       2, 2, 1, 2, 0, 1, 1, 2, 2, 2, 2, 2, 0, 0, 2, 2, 1, 2])"
            ]
          },
          "metadata": {},
          "execution_count": 69
        }
      ]
    },
    {
      "cell_type": "code",
      "source": [
        "y_test, y_preds"
      ],
      "metadata": {
        "colab": {
          "base_uri": "https://localhost:8080/"
        },
        "id": "8uCxwLYGsfJJ",
        "outputId": "4a9d10cd-3029-42c6-d2f3-831ea533b404"
      },
      "execution_count": null,
      "outputs": [
        {
          "output_type": "execute_result",
          "data": {
            "text/plain": [
              "(     1.0  2.0  3.0\n",
              " 76     0    1    0\n",
              " 31     1    0    0\n",
              " 163    0    0    1\n",
              " 29     1    0    0\n",
              " 56     1    0    0\n",
              " 67     1    0    0\n",
              " 141    0    0    1\n",
              " 177    0    0    1\n",
              " 181    0    0    1\n",
              " 53     1    0    0\n",
              " 54     1    0    0\n",
              " 204    0    0    1\n",
              " 21     1    0    0\n",
              " 13     1    0    0\n",
              " 85     0    1    0\n",
              " 20     1    0    0\n",
              " 167    0    0    1\n",
              " 164    0    0    1\n",
              " 151    0    0    1\n",
              " 162    0    0    1\n",
              " 40     1    0    0\n",
              " 207    0    0    1\n",
              " 192    0    0    1\n",
              " 171    0    0    1\n",
              " 84     0    1    0\n",
              " 190    0    0    1\n",
              " 5      1    0    0\n",
              " 113    0    1    0\n",
              " 22     1    0    0\n",
              " 205    0    0    1\n",
              " 155    0    0    1\n",
              " 194    0    0    1\n",
              " 208    0    0    1\n",
              " 187    0    0    1\n",
              " 134    0    1    0\n",
              " 122    0    1    0\n",
              " 191    0    0    1\n",
              " 180    0    0    1\n",
              " 103    0    1    0\n",
              " 175    0    0    1,\n",
              " array([1, 1, 2, 0, 0, 0, 2, 2, 2, 0, 0, 2, 0, 0, 1, 0, 2, 2, 2, 2, 0, 2,\n",
              "        2, 2, 1, 2, 0, 1, 1, 2, 2, 2, 2, 2, 0, 0, 2, 2, 1, 2]))"
            ]
          },
          "metadata": {},
          "execution_count": 70
        }
      ]
    }
  ]
}